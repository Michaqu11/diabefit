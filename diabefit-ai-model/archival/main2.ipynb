{
 "cells": [
  {
   "cell_type": "code",
   "execution_count": 2,
   "id": "b6bcb78d",
   "metadata": {},
   "outputs": [
    {
     "name": "stdout",
     "output_type": "stream",
     "text": [
      "Empty DataFrame\n",
      "Columns: []\n",
      "Index: []\n"
     ]
    },
    {
     "data": {
      "text/html": [
       "<div>\n",
       "<style scoped>\n",
       "    .dataframe tbody tr th:only-of-type {\n",
       "        vertical-align: middle;\n",
       "    }\n",
       "\n",
       "    .dataframe tbody tr th {\n",
       "        vertical-align: top;\n",
       "    }\n",
       "\n",
       "    .dataframe thead th {\n",
       "        text-align: right;\n",
       "    }\n",
       "</style>\n",
       "<table border=\"1\" class=\"dataframe\">\n",
       "  <thead>\n",
       "    <tr style=\"text-align: right;\">\n",
       "      <th></th>\n",
       "    </tr>\n",
       "  </thead>\n",
       "  <tbody>\n",
       "  </tbody>\n",
       "</table>\n",
       "</div>"
      ],
      "text/plain": [
       "Empty DataFrame\n",
       "Columns: []\n",
       "Index: []"
      ]
     },
     "execution_count": 2,
     "metadata": {},
     "output_type": "execute_result"
    }
   ],
   "source": [
    "import pandas as pd\n",
    "import xgboost as xgb\n",
    "from sklearn.model_selection import train_test_split\n",
    "from sklearn.metrics import mean_absolute_error\n",
    "import numpy as np\n",
    "import json\n",
    "\n",
    "# Wczytanie danych z pliku JSON\n",
    "file_path = 'mnt/data/data (6).json'  # Upewnij się, że ścieżka jest poprawna\n",
    "with open(file_path, 'r') as f:\n",
    "    data = json.load(f)\n",
    "\n",
    "# Rozpakowanie danych z JSON\n",
    "extracted_data = []\n",
    "for timestamp, entry in data.items():\n",
    "    if isinstance(entry, dict) and 'meals' in entry:\n",
    "        glucose = entry.get('glucose', None)\n",
    "        insulin_per_ww = entry.get('insulin_per_ww', None)\n",
    "        insulin_dose = entry.get('insulin_dose', None)\n",
    "        carbs = sum(meal.get('carbs', 0) for meal in entry['meals'])\n",
    "        extracted_data.append({\n",
    "            'glucose': glucose,\n",
    "            'carbs': carbs,\n",
    "            'insulin_per_ww': insulin_per_ww,\n",
    "            'insulin_dose': insulin_dose\n",
    "        })\n",
    "\n",
    "# Tworzenie DataFrame\n",
    "df = pd.DataFrame(extracted_data).dropna()  # Usuwanie pustych wartości\n",
    "\n",
    "# Sprawdzenie struktury danych\n",
    "print(df.head())\n",
    "df.head()"
   ]
  },
  {
   "cell_type": "code",
   "execution_count": null,
   "id": "3e4526b4",
   "metadata": {},
   "outputs": [],
   "source": [
    "# Założenie: Kolumny w pliku odpowiadają wymaganym danym\n",
    "X = df[['glucose', 'carbs', 'insulin_per_ww']]\n",
    "y = df['insulin_dose']\n",
    "\n",
    "# Podział na zestawy treningowe i testowe\n",
    "X_train, X_test, y_train, y_test = train_test_split(X, y, test_size=0.2, random_state=42)\n",
    "\n",
    "# Tworzenie modelu XGBoost\n",
    "model = xgb.XGBRegressor(objective='reg:squarederror', n_estimators=100, learning_rate=0.1)\n",
    "\n",
    "# Trenowanie modelu\n",
    "model.fit(X_train, y_train)\n"
   ]
  },
  {
   "cell_type": "code",
   "execution_count": null,
   "id": "ea1c45fc",
   "metadata": {},
   "outputs": [],
   "source": [
    "# Predykcja na zbiorze testowym\n",
    "y_pred = model.predict(X_test)\n",
    "\n",
    "# Ocena modelu\n",
    "mae = mean_absolute_error(y_test, y_pred)\n",
    "print(f'\"Mean Absolute Error: {mae:.2f}\"')"
   ]
  },
  {
   "cell_type": "code",
   "execution_count": null,
   "id": "0cb6bf4b",
   "metadata": {},
   "outputs": [],
   "source": [
    "# **TESTOWANIE MODEL:** Użytkownik może ręcznie wpisać dane\n",
    "def manual_test():\n",
    "    glucose = float(input(\"Podaj aktualny poziom cukru: \"))\n",
    "    carbs = float(input(\"Podaj ilość spożywanych węglowodanów: \"))\n",
    "    insulin_per_ww = float(input(\"Podaj dawkę insuliny na 1 WW: \"))\n",
    "    \n",
    "    input_data = np.array([[glucose, carbs, insulin_per_ww]])\n",
    "    prediction = model.predict(input_data)[0]\n",
    "    print(f'Przewidywana dawka insuliny: {prediction:.2f} jednostek')\n",
    "\n",
    "# Uruchomienie testu manualnego\n",
    "manual_test()"
   ]
  }
 ],
 "metadata": {
  "kernelspec": {
   "display_name": "Python 3",
   "language": "python",
   "name": "python3"
  },
  "language_info": {
   "codemirror_mode": {
    "name": "ipython",
    "version": 3
   },
   "file_extension": ".py",
   "mimetype": "text/x-python",
   "name": "python",
   "nbconvert_exporter": "python",
   "pygments_lexer": "ipython3",
   "version": "3.12.9"
  }
 },
 "nbformat": 4,
 "nbformat_minor": 4
}
